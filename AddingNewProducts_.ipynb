{
  "nbformat": 4,
  "nbformat_minor": 0,
  "metadata": {
    "colab": {
      "name": "AddingNewProducts .ipynb",
      "provenance": [],
      "collapsed_sections": []
    },
    "kernelspec": {
      "name": "python3",
      "display_name": "Python 3"
    },
    "language_info": {
      "name": "python"
    }
  },
  "cells": [
    {
      "cell_type": "code",
      "metadata": {
        "id": "6K-hxwco7LRJ"
      },
      "source": [
        "products = {\n",
        "    1001 : {\"name\":\"Parle- G Original\",       \"price\":80,  \"quan\":50,  \"expiry\":\"10 sep 2023\",  \"brand\":\"Parle\"},\n",
        "    1002 : {\"name\":\"Bourbon\",                 \"price\":30,  \"quan\":130, \"expiry\":\"12 jan 2022\",  \"brand\":\"Britania\"},\n",
        "    1003 : {\"name\":\"Marie Gold\",              \"price\":50,  \"quan\":145, \"expiry\":\"10 mar 2023\",  \"brand\":\"Britania\"},\n",
        "    1004 : {\"name\":\"Happy Happy\",             \"price\":12,  \"quan\":122, \"expiry\":\"23 jun 2023\",  \"brand\":\"Parle\"},\n",
        "    1005 : {\"name\":\"Monaco\",                  \"price\":28,  \"quan\":30,  \"expiry\":\"30 oct 2022\",  \"brand\":\"Parle\"},\n",
        "    1006 : {\"name\":\"Krackjack\",               \"price\":20,  \"quan\":58,  \"expiry\":\"29 jan 2022\",  \"brand\":\"Parle\"},\n",
        "    1007 : {\"name\":\"Marie Light\",             \"price\":55,  \"quan\":59,  \"expiry\":\"31 aug 2022\",  \"brand\":\"Britania\"},\n",
        "    1008 : {\"name\":\"Dark Fantasy Choco Fills\",\"price\":100, \"quan\":90,  \"expiry\":\"21 feb 2022\",  \"brand\":\"Sunfeast\"},\n",
        "    1009 : {\"name\":\"Hide & Seek\",             \"price\":40,  \"quan\":95,  \"expiry\":\"28 dec 2021\",  \"brand\":\"Parle\"},\n",
        "    1010 : {\"name\":\"Oreo\",                    \"price\":10,  \"quan\":95,  \"expiry\":\"01 jun 2022\",  \"brand\":\"Oreo\"},\n",
        "    1011 : {\"name\":\"Nice Time\",               \"price\":20,  \"quan\":100, \"expiry\":\"15 jul 2022\",  \"brand\":\"Britania\"},\n",
        "    1012 : {\"name\":\"Goodday\",                 \"price\":110, \"quan\":200, \"expiry\":\"02 dec 2021\",  \"brand\":\"Britania\"},\n",
        "    1013 : {\"name\":\"Nutri Choice\",            \"price\":35,  \"quan\":120, \"expiry\":\"30 dec 2021\",  \"brand\":\"Britania\"},\n",
        "    1014 : {\"name\":\"Moms Magic Cashew\",       \"price\":80,  \"quan\":180, \"expiry\":\"19 mar 2022\",  \"brand\":\"Sunfeast\"},\n",
        "    1015 : {\"name\":\"Magix\",                   \"price\":55,  \"quan\":185, \"expiry\":\"19 feb 2022\",  \"brand\":\"Parle\"},\n",
        "    1016 : {\"name\":\"Unibic\",                  \"price\":46,  \"quan\":190, \"expiry\":\"15 jan 2022\",  \"brand\":\"Unibic\"},\n",
        "    1017 : {\"name\":\"Tiger\",                   \"price\":37,  \"quan\":140, \"expiry\":\"13 dec 2011\",  \"brand\":\"Britania\"},\n",
        "    1018 : {\"name\":\"Bournvita\",               \"price\":30,  \"quan\":450, \"expiry\":\"14 feb 2023\",  \"brand\":\"Bournvita\"}\n",
        "}"
      ],
      "execution_count": 1,
      "outputs": []
    },
    {
      "cell_type": "code",
      "metadata": {
        "id": "zdW-tMXeGZqQ"
      },
      "source": [
        "import json"
      ],
      "execution_count": 2,
      "outputs": []
    },
    {
      "cell_type": "code",
      "metadata": {
        "id": "_rr_Ob-_Gj6d"
      },
      "source": [
        "js = json.dumps(products)"
      ],
      "execution_count": 3,
      "outputs": []
    },
    {
      "cell_type": "code",
      "metadata": {
        "id": "0gfUTAr7Gx8V"
      },
      "source": [
        "fd = open(\"products.json\",\"w\")\n",
        "fd.write(js)\n",
        "fd.close()"
      ],
      "execution_count": 4,
      "outputs": []
    },
    {
      "cell_type": "markdown",
      "metadata": {
        "id": "3zpO86gyH6tz"
      },
      "source": [
        "# Read Data From Json"
      ]
    },
    {
      "cell_type": "code",
      "metadata": {
        "id": "A7RoK81eHzfo"
      },
      "source": [
        "fd = open(\"products.json\",'r')\n",
        "\n",
        "r = fd.read()\n",
        "\n",
        "fd.close()"
      ],
      "execution_count": 5,
      "outputs": []
    },
    {
      "cell_type": "code",
      "metadata": {
        "id": "ibtz-Na7Ic32"
      },
      "source": [
        "products = json.loads(r)"
      ],
      "execution_count": 6,
      "outputs": []
    },
    {
      "cell_type": "code",
      "metadata": {
        "colab": {
          "base_uri": "https://localhost:8080/"
        },
        "id": "JiKhWKDIImVi",
        "outputId": "5ebf9fbe-8c09-4504-dcd4-ceb08bd50d07"
      },
      "source": [
        "products"
      ],
      "execution_count": 7,
      "outputs": [
        {
          "output_type": "execute_result",
          "data": {
            "text/plain": [
              "{'1001': {'brand': 'Parle',\n",
              "  'expiry': '10 sep 2023',\n",
              "  'name': 'Parle- G Original',\n",
              "  'price': 80,\n",
              "  'quan': 50},\n",
              " '1002': {'brand': 'Britania',\n",
              "  'expiry': '12 jan 2022',\n",
              "  'name': 'Bourbon',\n",
              "  'price': 30,\n",
              "  'quan': 130},\n",
              " '1003': {'brand': 'Britania',\n",
              "  'expiry': '10 mar 2023',\n",
              "  'name': 'Marie Gold',\n",
              "  'price': 50,\n",
              "  'quan': 145},\n",
              " '1004': {'brand': 'Parle',\n",
              "  'expiry': '23 jun 2023',\n",
              "  'name': 'Happy Happy',\n",
              "  'price': 12,\n",
              "  'quan': 122},\n",
              " '1005': {'brand': 'Parle',\n",
              "  'expiry': '30 oct 2022',\n",
              "  'name': 'Monaco',\n",
              "  'price': 28,\n",
              "  'quan': 30},\n",
              " '1006': {'brand': 'Parle',\n",
              "  'expiry': '29 jan 2022',\n",
              "  'name': 'Krackjack',\n",
              "  'price': 20,\n",
              "  'quan': 58},\n",
              " '1007': {'brand': 'Britania',\n",
              "  'expiry': '31 aug 2022',\n",
              "  'name': 'Marie Light',\n",
              "  'price': 55,\n",
              "  'quan': 59},\n",
              " '1008': {'brand': 'Sunfeast',\n",
              "  'expiry': '21 feb 2022',\n",
              "  'name': 'Dark Fantasy Choco Fills',\n",
              "  'price': 100,\n",
              "  'quan': 90},\n",
              " '1009': {'brand': 'Parle',\n",
              "  'expiry': '28 dec 2021',\n",
              "  'name': 'Hide & Seek',\n",
              "  'price': 40,\n",
              "  'quan': 95},\n",
              " '1010': {'brand': 'Oreo',\n",
              "  'expiry': '01 jun 2022',\n",
              "  'name': 'Oreo',\n",
              "  'price': 10,\n",
              "  'quan': 95},\n",
              " '1011': {'brand': 'Britania',\n",
              "  'expiry': '15 jul 2022',\n",
              "  'name': 'Nice Time',\n",
              "  'price': 20,\n",
              "  'quan': 100},\n",
              " '1012': {'brand': 'Britania',\n",
              "  'expiry': '02 dec 2021',\n",
              "  'name': 'Goodday',\n",
              "  'price': 110,\n",
              "  'quan': 200},\n",
              " '1013': {'brand': 'Britania',\n",
              "  'expiry': '30 dec 2021',\n",
              "  'name': 'Nutri Choice',\n",
              "  'price': 35,\n",
              "  'quan': 120},\n",
              " '1014': {'brand': 'Sunfeast',\n",
              "  'expiry': '19 mar 2022',\n",
              "  'name': 'Moms Magic Cashew',\n",
              "  'price': 80,\n",
              "  'quan': 180},\n",
              " '1015': {'brand': 'Parle',\n",
              "  'expiry': '19 feb 2022',\n",
              "  'name': 'Magix',\n",
              "  'price': 55,\n",
              "  'quan': 185},\n",
              " '1016': {'brand': 'Unibic',\n",
              "  'expiry': '15 jan 2022',\n",
              "  'name': 'Unibic',\n",
              "  'price': 46,\n",
              "  'quan': 190},\n",
              " '1017': {'brand': 'Britania',\n",
              "  'expiry': '13 dec 2011',\n",
              "  'name': 'Tiger',\n",
              "  'price': 37,\n",
              "  'quan': 140},\n",
              " '1018': {'brand': 'Bournvita',\n",
              "  'expiry': '14 feb 2023',\n",
              "  'name': 'Bournvita',\n",
              "  'price': 30,\n",
              "  'quan': 450}}"
            ]
          },
          "metadata": {},
          "execution_count": 7
        }
      ]
    },
    {
      "cell_type": "markdown",
      "metadata": {
        "id": "Z7d5Y_YfNaBO"
      },
      "source": [
        "# Adding New Item To The Inventory"
      ]
    },
    {
      "cell_type": "code",
      "metadata": {
        "colab": {
          "base_uri": "https://localhost:8080/"
        },
        "id": "L54kqW7iMnVr",
        "outputId": "813fd549-06c8-4ed2-ce5b-8acde2a60f15"
      },
      "source": [
        "prod_id = input(\"Enter the Product ID: \")\n",
        "name = input(\"Enter the Name of the Product: \")\n",
        "price = int(input(\"Enter the price per Item: \"))\n",
        "quan = int(input(\"Enter the Quantity of the Product: \"))\n",
        "expiry = input(\"Enter the expiry date of the Product: \")\n",
        "brand = input(\"Enter the Brand of the product: \")\n",
        "\n",
        "products[prod_id] = {\"name\":name,\"price\":price,\"quan\":quan,\"expiry\":expiry,\"brand\":brand}\n",
        "\n",
        "js = json.dumps(products)\n",
        "\n",
        "fd = open(\"products.json\",\"w\")\n",
        "fd.write(js)\n",
        "fd.close()"
      ],
      "execution_count": 8,
      "outputs": [
        {
          "name": "stdout",
          "output_type": "stream",
          "text": [
            "Enter the Product ID: 1019\n",
            "Enter the Name of the Product: JimJam\n",
            "Enter the price per Item: 35\n",
            "Enter the Quantity of the Product: 25\n",
            "Enter the expiry date of the Product: 5 jan 2023\n",
            "Enter the Brand of the product: Britania\n"
          ]
        }
      ]
    },
    {
      "cell_type": "code",
      "metadata": {
        "colab": {
          "base_uri": "https://localhost:8080/"
        },
        "id": "kec_tjRuNGrT",
        "outputId": "290fd4fa-6acd-40fb-88d4-dc4541f89cc6"
      },
      "source": [
        "products"
      ],
      "execution_count": 9,
      "outputs": [
        {
          "output_type": "execute_result",
          "data": {
            "text/plain": [
              "{'1001': {'brand': 'Parle',\n",
              "  'expiry': '10 sep 2023',\n",
              "  'name': 'Parle- G Original',\n",
              "  'price': 80,\n",
              "  'quan': 50},\n",
              " '1002': {'brand': 'Britania',\n",
              "  'expiry': '12 jan 2022',\n",
              "  'name': 'Bourbon',\n",
              "  'price': 30,\n",
              "  'quan': 130},\n",
              " '1003': {'brand': 'Britania',\n",
              "  'expiry': '10 mar 2023',\n",
              "  'name': 'Marie Gold',\n",
              "  'price': 50,\n",
              "  'quan': 145},\n",
              " '1004': {'brand': 'Parle',\n",
              "  'expiry': '23 jun 2023',\n",
              "  'name': 'Happy Happy',\n",
              "  'price': 12,\n",
              "  'quan': 122},\n",
              " '1005': {'brand': 'Parle',\n",
              "  'expiry': '30 oct 2022',\n",
              "  'name': 'Monaco',\n",
              "  'price': 28,\n",
              "  'quan': 30},\n",
              " '1006': {'brand': 'Parle',\n",
              "  'expiry': '29 jan 2022',\n",
              "  'name': 'Krackjack',\n",
              "  'price': 20,\n",
              "  'quan': 58},\n",
              " '1007': {'brand': 'Britania',\n",
              "  'expiry': '31 aug 2022',\n",
              "  'name': 'Marie Light',\n",
              "  'price': 55,\n",
              "  'quan': 59},\n",
              " '1008': {'brand': 'Sunfeast',\n",
              "  'expiry': '21 feb 2022',\n",
              "  'name': 'Dark Fantasy Choco Fills',\n",
              "  'price': 100,\n",
              "  'quan': 90},\n",
              " '1009': {'brand': 'Parle',\n",
              "  'expiry': '28 dec 2021',\n",
              "  'name': 'Hide & Seek',\n",
              "  'price': 40,\n",
              "  'quan': 95},\n",
              " '1010': {'brand': 'Oreo',\n",
              "  'expiry': '01 jun 2022',\n",
              "  'name': 'Oreo',\n",
              "  'price': 10,\n",
              "  'quan': 95},\n",
              " '1011': {'brand': 'Britania',\n",
              "  'expiry': '15 jul 2022',\n",
              "  'name': 'Nice Time',\n",
              "  'price': 20,\n",
              "  'quan': 100},\n",
              " '1012': {'brand': 'Britania',\n",
              "  'expiry': '02 dec 2021',\n",
              "  'name': 'Goodday',\n",
              "  'price': 110,\n",
              "  'quan': 200},\n",
              " '1013': {'brand': 'Britania',\n",
              "  'expiry': '30 dec 2021',\n",
              "  'name': 'Nutri Choice',\n",
              "  'price': 35,\n",
              "  'quan': 120},\n",
              " '1014': {'brand': 'Sunfeast',\n",
              "  'expiry': '19 mar 2022',\n",
              "  'name': 'Moms Magic Cashew',\n",
              "  'price': 80,\n",
              "  'quan': 180},\n",
              " '1015': {'brand': 'Parle',\n",
              "  'expiry': '19 feb 2022',\n",
              "  'name': 'Magix',\n",
              "  'price': 55,\n",
              "  'quan': 185},\n",
              " '1016': {'brand': 'Unibic',\n",
              "  'expiry': '15 jan 2022',\n",
              "  'name': 'Unibic',\n",
              "  'price': 46,\n",
              "  'quan': 190},\n",
              " '1017': {'brand': 'Britania',\n",
              "  'expiry': '13 dec 2011',\n",
              "  'name': 'Tiger',\n",
              "  'price': 37,\n",
              "  'quan': 140},\n",
              " '1018': {'brand': 'Bournvita',\n",
              "  'expiry': '14 feb 2023',\n",
              "  'name': 'Bournvita',\n",
              "  'price': 30,\n",
              "  'quan': 450},\n",
              " '1019': {'brand': 'Britania',\n",
              "  'expiry': '5 jan 2023',\n",
              "  'name': 'JimJam',\n",
              "  'price': 35,\n",
              "  'quan': 25}}"
            ]
          },
          "metadata": {},
          "execution_count": 9
        }
      ]
    }
  ]
}