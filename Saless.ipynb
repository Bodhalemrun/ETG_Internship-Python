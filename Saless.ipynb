{
  "nbformat": 4,
  "nbformat_minor": 0,
  "metadata": {
    "colab": {
      "name": "Saless.ipynb",
      "provenance": [],
      "collapsed_sections": []
    },
    "kernelspec": {
      "name": "python3",
      "display_name": "Python 3"
    },
    "language_info": {
      "name": "python"
    }
  },
  "cells": [
    {
      "cell_type": "code",
      "metadata": {
        "id": "wOW8i4MYpzZu"
      },
      "source": [
        "{\"1\": {\"prod\": \"101\", \"quan\": 5, \"amount\": 140}, \"2\": {\"prod\": \"102\", \"quan\": 9, \"amount\": 199}, \"3\": {\"prod\": \"103\", \"quan\": 6, \"amount\": 250}}"
      ],
      "execution_count": null,
      "outputs": []
    }
  ]
}