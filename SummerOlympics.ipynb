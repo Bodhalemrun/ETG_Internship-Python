{
  "nbformat": 4,
  "nbformat_minor": 0,
  "metadata": {
    "colab": {
      "name": "SummerOlympics.ipynb",
      "provenance": [],
      "collapsed_sections": []
    },
    "kernelspec": {
      "name": "python3",
      "display_name": "Python 3"
    },
    "language_info": {
      "name": "python"
    }
  },
  "cells": [
    {
      "cell_type": "markdown",
      "metadata": {
        "id": "GrXGQP3EiYJV"
      },
      "source": [
        "  Summer Olympics Data Analysis Assignment"
      ]
    },
    {
      "cell_type": "markdown",
      "metadata": {
        "id": "-d5Bi4Qhi5DT"
      },
      "source": [
        "1. In how many cities Summer Olympics is held so far?"
      ]
    },
    {
      "cell_type": "code",
      "metadata": {
        "colab": {
          "base_uri": "https://localhost:8080/"
        },
        "id": "PeeUTpEoi6gB",
        "outputId": "35415290-6329-457d-be29-37e2d55de7ec"
      },
      "source": [
        "import pandas as pd\n",
        "import matplotlib.pyplot as plt\n",
        "# print(dir(pd))\n",
        "\n",
        "df = pd.read_csv(\"summer.csv\")\n",
        "\n",
        "print(len(df[\"City\"].unique()))"
      ],
      "execution_count": 4,
      "outputs": [
        {
          "output_type": "stream",
          "name": "stdout",
          "text": [
            "22\n"
          ]
        }
      ]
    },
    {
      "cell_type": "markdown",
      "metadata": {
        "id": "psLx4ZfrjBV8"
      },
      "source": [
        "2. Which sport is having most number of Gold Medals so far? (Top 5)"
      ]
    },
    {
      "cell_type": "code",
      "metadata": {
        "colab": {
          "base_uri": "https://localhost:8080/",
          "height": 350
        },
        "id": "l7XfsiYOjFsJ",
        "outputId": "d7e15f91-f31c-4131-c77f-b81f63fb02a2"
      },
      "source": [
        "# Design\n",
        "\n",
        "GoldMedals = {}\n",
        "for i in df[\"Sport\"].unique():\n",
        "    Fm = pd.DataFrame(df[df[\"Sport\"] == i])\n",
        "    GoldMedals[i] = len(Fm[Fm[\"Medal\"] == \"Gold\"])\n",
        "# print(GoldMedals[:5])\n",
        "\n",
        "Name = list(GoldMedals.keys())\n",
        "Name.sort(reverse = True)\n",
        "NoG = list(GoldMedals.values())\n",
        "NoG.sort(reverse = True)\n",
        "\n",
        "# plot\n",
        "\n",
        "plt.figure(figsize = (10, 5))\n",
        "plt.bar(Name[:5], NoG[:5], color = \"Pink\", width = 0.5)\n",
        "plt.title(\"Gold Medalists\")\n",
        "plt.xlabel(\"Sports\")\n",
        "plt.ylabel(\"Medals\")\n",
        "plt.show()"
      ],
      "execution_count": 12,
      "outputs": [
        {
          "output_type": "display_data",
          "data": {
            "image/png": "[encoded data removed]",
            "text/plain": [
              "<Figure size 720x360 with 1 Axes>"
            ]
          },
          "metadata": {
            "needs_background": "light"
          }
        }
      ]
    },
    {
      "cell_type": "markdown",
      "metadata": {
        "id": "ejvI9A0XjUdl"
      },
      "source": [
        "3. Which sport is having most number of medals so far? (Top 5)"
      ]
    },
    {
      "cell_type": "code",
      "metadata": {
        "colab": {
          "base_uri": "https://localhost:8080/",
          "height": 350
        },
        "id": "sgADWEZRjVyt",
        "outputId": "915f84e7-f4ed-420b-fbd8-350da6eb88bb"
      },
      "source": [
        "# Design\n",
        "\n",
        "Medals = {}\n",
        "for i in df[\"Sport\"].unique():\n",
        "    Fm = pd.DataFrame(df[df[\"Sport\"] == i])\n",
        "    Medals[i] = len(Fm[\"Medal\"] )\n",
        "# print(Medals)\n",
        "\n",
        "Name = list(Medals.keys())\n",
        "Name.sort(reverse = True)\n",
        "NoM = list(Medals.values())\n",
        "NoM.sort(reverse = True)\n",
        "\n",
        "# plot\n",
        "\n",
        "plt.figure(figsize = (10, 5))\n",
        "plt.bar(Name[:5], NoM[:5], color = \"Orange\", width = 0.5)\n",
        "plt.title(\"Medalists\")\n",
        "plt.xlabel(\"Sports\")\n",
        "plt.ylabel(\"Medals\")\n",
        "plt.show()"
      ],
      "execution_count": 13,
      "outputs": [
        {
          "output_type": "display_data",
          "data": {
            "image/png": "[encoded data removed]",
            "text/plain": [
              "<Figure size 720x360 with 1 Axes>"
            ]
          },
          "metadata": {
            "needs_background": "light"
          }
        }
      ]
    },
    {
      "cell_type": "markdown",
      "metadata": {
        "id": "gfRtaYvWjgIc"
      },
      "source": [
        "4. Which player has won most number of medals? (Top 5)"
      ]
    },
    {
      "cell_type": "code",
      "metadata": {
        "colab": {
          "base_uri": "https://localhost:8080/",
          "height": 352
        },
        "id": "z-PXknQAjlbJ",
        "outputId": "8272f8c2-fa0e-4009-9cc1-597deb8fda6c"
      },
      "source": [
        "# Design\n",
        "\n",
        "players = {}\n",
        "for i in df[\"Athlete\"].unique():\n",
        "\n",
        "    players[i] = len(df[df[\"Athlete\"] == i])\n",
        "# print(players)\n",
        "\n",
        "NamePlayer = list(players.keys())\n",
        "NamePlayer.sort(reverse = True)\n",
        "NoM = list(players.values())\n",
        "NoM.sort(reverse = True)\n",
        "# plot\n",
        "\n",
        "plt.figure(figsize = (12, 5))\n",
        "plt.bar(NamePlayer[:5], NoM[:5], color = \"Purple\", width = 0.5)\n",
        "plt.title(\"Medalists\")\n",
        "plt.xlabel(\"Sports\")\n",
        "plt.ylabel(\"Medals\")\n",
        "plt.show()\n"
      ],
      "execution_count": 14,
      "outputs": [
        {
          "output_type": "display_data",
          "data": {
            "image/png": "[encoded data removed]",
            "text/plain": [
              "<Figure size 864x360 with 1 Axes>"
            ]
          },
          "metadata": {
            "needs_background": "light"
          }
        }
      ]
    },
    {
      "cell_type": "markdown",
      "metadata": {
        "id": "RMHMVdwBj4OU"
      },
      "source": [
        "5. Which player has won most number Gold Medals of medals? (Top 5)"
      ]
    },
    {
      "cell_type": "code",
      "metadata": {
        "colab": {
          "base_uri": "https://localhost:8080/",
          "height": 352
        },
        "id": "DcWOnkS1j83Y",
        "outputId": "7e712fcc-2224-4a6a-bc5b-e80cb8a9640c"
      },
      "source": [
        "# Design\n",
        "\n",
        "GoldPlayers = {}\n",
        "for i in df[\"Athlete\"].unique():\n",
        "\n",
        "    GoldPlayers[i] = len(df[df[\"Athlete\"] == i])\n",
        "# print(GoldPlayers)\n",
        "\n",
        "NamePlayer = list(GoldPlayers.keys())\n",
        "NamePlayer.sort(reverse = True)\n",
        "NoG = list(GoldPlayers.values())\n",
        "NoG.sort(reverse = True)\n",
        "\n",
        "# plot\n",
        "\n",
        "plt.figure(figsize = (12, 5))\n",
        "plt.bar(NamePlayer[:5], NoG[:5], color = \"Red\", width = 0.5)\n",
        "plt.title(\"Gold Medalists\")\n",
        "plt.xlabel(\"Sports\")\n",
        "plt.ylabel(\"Medals\")\n",
        "plt.show()"
      ],
      "execution_count": 15,
      "outputs": [
        {
          "output_type": "display_data",
          "data": {
            "image/png": "[encoded data removed]",
            "text/plain": [
              "<Figure size 864x360 with 1 Axes>"
            ]
          },
          "metadata": {
            "needs_background": "light"
          }
        }
      ]
    },
    {
      "cell_type": "markdown",
      "metadata": {
        "id": "xqyMIQ6SkSMo"
      },
      "source": [
        "6. In which year India won first Gold Medal in Summer Olympics?"
      ]
    },
    {
      "cell_type": "code",
      "metadata": {
        "colab": {
          "base_uri": "https://localhost:8080/"
        },
        "id": "kOLK3EOakWjB",
        "outputId": "6ebf25eb-2b16-46dd-b451-3daba4986cc1"
      },
      "source": [
        "df[df[\"Country\"] == \"IND\"][\"Year\"].head(1)"
      ],
      "execution_count": 9,
      "outputs": [
        {
          "output_type": "execute_result",
          "data": {
            "text/plain": [
              "241    1900\n",
              "Name: Year, dtype: int64"
            ]
          },
          "metadata": {},
          "execution_count": 9
        }
      ]
    },
    {
      "cell_type": "markdown",
      "metadata": {
        "id": "C_HC0TV7kbZl"
      },
      "source": [
        "7. Which event is most popular in terms on number of players? (Top 5)"
      ]
    },
    {
      "cell_type": "code",
      "metadata": {
        "colab": {
          "base_uri": "https://localhost:8080/",
          "height": 406
        },
        "id": "2ysxnBcPkfL0",
        "outputId": "31aa3e45-b9b8-4f58-bd8b-c8e230b0f133"
      },
      "source": [
        "# Design\n",
        "\n",
        "Event = {}\n",
        "for i in df[\"Event\"].unique():\n",
        "\n",
        "    Event[i] = len(df[df[\"Event\"] == i])\n",
        "# print(Event)\n",
        "Name = list(Event.keys())\n",
        "Name.sort(reverse = True)\n",
        "NoP = list(Event.values())\n",
        "NoP.sort(reverse = True)\n",
        "print(Name[:5])\n",
        "print(NoP[:5])\n",
        "\n",
        "\n",
        "# plot\n",
        "plt.figure(figsize = (10, 5))\n",
        "plt.bar(Name[:5], NoP[:5], color = \"Black\", width = 0.5)\n",
        "plt.title(\"Women Gold Medalists\")\n",
        "plt.xlabel(\"Sports\")\n",
        "plt.ylabel(\"Medals\")\n",
        "plt.show()"
      ],
      "execution_count": 16,
      "outputs": [
        {
          "output_type": "stream",
          "name": "stdout",
          "text": [
            "['Épée, Masters', 'Épée, Amateurs And Masters', 'Épée Team', 'Épée Individual', 'York Round (100Y - 80Y - 60Y)']\n",
            "[1497, 1422, 1147, 1012, 973]\n"
          ]
        },
        {
          "output_type": "display_data",
          "data": {
            "image/png": "[encoded data removed]",
            "text/plain": [
              "<Figure size 720x360 with 1 Axes>"
            ]
          },
          "metadata": {
            "needs_background": "light"
          }
        }
      ]
    },
    {
      "cell_type": "markdown",
      "metadata": {
        "id": "Np8DD4XbkvTa"
      },
      "source": [
        "8. Which sport is having most female Gold Medalists? (Top 5)"
      ]
    },
    {
      "cell_type": "code",
      "metadata": {
        "colab": {
          "base_uri": "https://localhost:8080/",
          "height": 350
        },
        "id": "ppTGRfrEk1Ke",
        "outputId": "ed4d0789-833a-4684-fcfc-6ab6155f8d17"
      },
      "source": [
        "# Design\n",
        "\n",
        "Wm = pd.DataFrame(df[df[\"Gender\"] == \"Women\"])\n",
        "GoldMedal_Women = {}\n",
        "\n",
        "for i in Wm[\"Sport\"].unique():\n",
        "    Fm = pd.DataFrame(Wm[Wm[\"Sport\"] == i])\n",
        "    GoldMedal_Women[i] = len(Fm[Fm[\"Medal\"] == \"Gold\"])\n",
        "    \n",
        "# print(GoldMedal_Women)\n",
        "Name = list(GoldMedal_Women.keys())\n",
        "Name.sort(reverse = True)\n",
        "NoS = list(GoldMedal_Women.values())\n",
        "NoS.sort(reverse = True)\n",
        "# plot\n",
        "\n",
        "plt.figure(figsize = (10, 5))\n",
        "plt.bar(Name[:5], NoS[:5], color = \"Yellow\", width = 0.5)\n",
        "plt.title(\"Women Gold Medalists\")\n",
        "plt.xlabel(\"Sports\")\n",
        "plt.ylabel(\"Medals\")\n",
        "plt.show()"
      ],
      "execution_count": 17,
      "outputs": [
        {
          "output_type": "display_data",
          "data": {
            "image/png": "[encoded data removed]",
            "text/plain": [
              "<Figure size 720x360 with 1 Axes>"
            ]
          },
          "metadata": {
            "needs_background": "light"
          }
        }
      ]
    }
  ]
}