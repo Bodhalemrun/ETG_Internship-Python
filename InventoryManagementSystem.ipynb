{
  "nbformat": 4,
  "nbformat_minor": 0,
  "metadata": {
    "colab": {
      "name": "InventoryManagementSystem",
      "provenance": [],
      "collapsed_sections": []
    },
    "kernelspec": {
      "name": "python3",
      "display_name": "Python 3"
    },
    "language_info": {
      "name": "python"
    }
  },
  "cells": [
    {
      "cell_type": "code",
      "metadata": {
        "id": "PTBJjBNqPC3A"
      },
      "source": [
        "inventory = {\n",
        "    100 : {\"item\": \"Dark Chocolate\" , \"price\" : 100 , \"quantity\" : 30 , \"category\": \"Cadbury\" , \"rating\": 9},\n",
        "    101 : {\"item\": \"Perk\" , \"price\" : 10 , \"quantity\" : 15 , \"category\": \"Cadbury\" , \"rating\": 9},     \n",
        "    102 : {\"item\": \"Munch\" , \"price\" : 10 , \"quantity\" : 10 , \"category\": \"Cadbury\", \"rating\": 7}, \n",
        "    103 : {\"item\": \"Kit Kat\" , \"price\" : 50 , \"quantity\" : 30 , \"category\": \"Cadbury\", \"rating\": 8}, \n",
        "    104 : {\"item\": \"Five Star\" , \"price\" : 10 , \"quantity\" : 20 , \"category\": \"Cadbury\",\"rating\": 7},   \n",
        "    105 : {\"item\": \"Dairy Milk Silk\" , \"price\" : 60 , \"quantity\" : 10 , \"category\": \"Cadbury\", \"rating\": 8}, \n",
        "    106 : {\"item\": \"Crunchie\" , \"price\" : 40 , \"quantity\" : 5 , \"category\": \"Cadbury\", \"rating\": 7},   \n",
        "    107 : {\"item\": \"Milkybar\" , \"price\" : 20 , \"quantity\" : 35 , \"category\": \"Cadbury\", \"rating\": 8},   \n",
        "    108 : {\"item\": \"Bournville\" , \"price\" : 70 , \"quantity\" : 10 , \"category\": \"Cadbury\",\"rating\": 8},   \n",
        "    109 : {\"item\": \"Snickers\" , \"price\" : 30 , \"quantity\" : 25 , \"category\": \"Cadbury\",\"rating\": 7},    \n",
        "    110 : {\"item\": \"Caramello\" , \"price\" : 65 , \"quantity\" : 10 , \"category\": \"Cadbury\", \"rating\": 8},    \n",
        "    111 : {\"item\": \"Fruit Nut\" , \"price\" : 70 , \"quantity\" : 20 , \"category\": \"Cadbury\",\"rating\": 9}, \n",
        "    112 : {\"item\": \"Silk Oreo\" , \"price\" : 80 , \"quantity\" : 28 , \"category\": \"Cadbury\",\"rating\": 10},     \n",
        "    113 : {\"item\": \"Dairy Milk Bubbly\" , \"price\" : 75 , \"quantity\" : 40 , \"Cadbury\": \"stationary\",\"rating\": 9},      \n",
        "    114 : {\"item\": \"Dairy Milk\" , \"price\" : 5 , \"quantity\" : 33 , \"category\": \"Cadbury\",\"rating\": 8},     \n",
        "    115 : {\"item\": \"Dark Fantasy\" , \"price\" : 100 , \"quantity\" : 10 , \"category\": \"Biscuit\",\"rating\": 8}\n",
        "\n",
        "}  "
      ],
      "execution_count": 1,
      "outputs": []
    },
    {
      "cell_type": "code",
      "metadata": {
        "colab": {
          "base_uri": "https://localhost:8080/"
        },
        "id": "Iiek-tezpw1p",
        "outputId": "af9dbc8d-42cf-4293-d9ca-4fe4bfa97f6b"
      },
      "source": [
        "ui_product = int(input(\"Enter Product ID: \"))\n",
        "ui_quantity = int(input(\"Enter Quantity: \"))\n",
        "\n",
        "product = inventory.get(ui_product)\n",
        "\n",
        "if product:\n",
        "\n",
        "  print('---WELCOME TO OUR SHOP---')\n",
        "  print('*************************')\n",
        "  print(         'Product Name: ',product.get('item'))\n",
        "  print(       'Price Per Unit: ', product.get('price'))\n",
        "  print('************************')\n",
        "  print('--------------------------------')\n",
        "  print(    'Amount To Be Paid: ', ui_quantity*product.get('price'))\n",
        "  print('--------------------------------')\n",
        "  print('Thank-You Vist Again! Have A Nice Day.')\n",
        "  product['quantity']-=ui_quantity\n",
        "else:\n",
        "  print(\"Product cannot found\")"
      ],
      "execution_count": 16,
      "outputs": [
        {
          "output_type": "stream",
          "name": "stdout",
          "text": [
            "Enter Product ID: 112\n",
            "Enter Quantity: 5\n",
            "---WELCOME TO OUR SHOP---\n",
            "*************************\n",
            "Product Name:  Silk Oreo\n",
            "Price Per Unit:  80\n",
            "************************\n",
            "--------------------------------\n",
            "Amount To Be Paid:  400\n",
            "--------------------------------\n",
            "Thank-You Vist Again! Have A Nice Day.\n"
          ]
        }
      ]
    },
    {
      "cell_type": "code",
      "metadata": {
        "id": "4a4F4J6EtIJn"
      },
      "source": [
        "import json\n",
        "\n",
        "file = open('Items.json', 'w')\n",
        "json.dump(inventory, file )\n",
        "\n",
        "#$print(json_inventory)"
      ],
      "execution_count": 3,
      "outputs": []
    }
  ]
}